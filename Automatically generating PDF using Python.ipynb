{
 "cells": [
  {
   "cell_type": "markdown",
   "id": "0d2dd1db",
   "metadata": {},
   "source": [
    "##### gerando pdf automaticamente utilizando o python"
   ]
  },
  {
   "cell_type": "markdown",
   "id": "b7e99b5e",
   "metadata": {},
   "source": [
    "# Gerador de Orçamento"
   ]
  },
  {
   "cell_type": "code",
   "execution_count": 3,
   "id": "c81d034c",
   "metadata": {},
   "outputs": [
    {
     "name": "stdout",
     "output_type": "stream",
     "text": [
      "Orçamento gerado com sucesso! \n"
     ]
    }
   ],
   "source": [
    "print(\"Orçamento gerado com sucesso! \")"
   ]
  },
  {
   "cell_type": "markdown",
   "id": "7ed5401b",
   "metadata": {},
   "source": [
    "# Entrada de Dados do Usuário"
   ]
  },
  {
   "cell_type": "code",
   "execution_count": 4,
   "id": "909c057f",
   "metadata": {},
   "outputs": [
    {
     "name": "stdout",
     "output_type": "stream",
     "text": [
      "Digite a descrição do projeto: Desenvolvimento Python\n",
      "Digite a quantidade de horas previstas: 200\n",
      "Digite o valor da hora trabalhada: 100\n",
      "Digite o prazo estimado: 3 meses\n"
     ]
    },
    {
     "data": {
      "text/plain": [
       "'3 meses'"
      ]
     },
     "execution_count": 4,
     "metadata": {},
     "output_type": "execute_result"
    }
   ],
   "source": [
    "input(\"Digite a descrição do projeto: \")\n",
    "input(\"Digite a quantidade de horas previstas: \")\n",
    "input(\"Digite o valor da hora trabalhada: \")\n",
    "input(\"Digite o prazo estimado: \")"
   ]
  },
  {
   "cell_type": "markdown",
   "id": "310e98e3",
   "metadata": {},
   "source": [
    "# Armazenando dados em variáveis\n",
    "- nomes significativos"
   ]
  },
  {
   "cell_type": "code",
   "execution_count": 8,
   "id": "4f709379",
   "metadata": {},
   "outputs": [
    {
     "name": "stdout",
     "output_type": "stream",
     "text": [
      "Digite a descrição do projeto: Desenvolvimento Python\n",
      "Digite a quantidade de horas previstas: 200\n",
      "Digite o valor da hora trabalhada: 150\n",
      "Digite o prazo estimado: 3 meses\n"
     ]
    }
   ],
   "source": [
    "projeto = input(\"Digite a descrição do projeto: \")\n",
    "horas_previstas = input(\"Digite a quantidade de horas previstas: \")\n",
    "valor_hora = input(\"Digite o valor da hora trabalhada: \")\n",
    "prazo = input(\"Digite o prazo estimado: \")"
   ]
  },
  {
   "cell_type": "markdown",
   "id": "d7b4f9e7",
   "metadata": {},
   "source": [
    "# Realizando cálculos com o Python\n",
    "- quantidade de horas previstas * valor hora trabalhada"
   ]
  },
  {
   "cell_type": "code",
   "execution_count": 10,
   "id": "0939410c",
   "metadata": {},
   "outputs": [],
   "source": [
    "valor_total = int(horas_previstas) * int(valor_hora)"
   ]
  },
  {
   "cell_type": "code",
   "execution_count": 11,
   "id": "4f7aef3d",
   "metadata": {},
   "outputs": [
    {
     "data": {
      "text/plain": [
       "30000"
      ]
     },
     "execution_count": 11,
     "metadata": {},
     "output_type": "execute_result"
    }
   ],
   "source": [
    "valor_total"
   ]
  },
  {
   "cell_type": "markdown",
   "id": "a04145e9",
   "metadata": {},
   "source": [
    "# Tipo de dado\n",
    "- texto (str)\n",
    "- número (int)"
   ]
  },
  {
   "cell_type": "code",
   "execution_count": 12,
   "id": "a1816ff4",
   "metadata": {},
   "outputs": [
    {
     "data": {
      "text/plain": [
       "10"
      ]
     },
     "execution_count": 12,
     "metadata": {},
     "output_type": "execute_result"
    }
   ],
   "source": [
    "int(\"10\")"
   ]
  },
  {
   "cell_type": "markdown",
   "id": "342957c0",
   "metadata": {},
   "source": [
    "# Gerando o PDF"
   ]
  },
  {
   "cell_type": "code",
   "execution_count": 16,
   "id": "dd5fc359",
   "metadata": {},
   "outputs": [
    {
     "name": "stdout",
     "output_type": "stream",
     "text": [
      "Requirement already satisfied: fpdf in c:\\users\\larissa\\anaconda3\\lib\\site-packages (1.7.2)\n"
     ]
    }
   ],
   "source": [
    "!pip install fpdf"
   ]
  },
  {
   "cell_type": "code",
   "execution_count": 17,
   "id": "96fc7539",
   "metadata": {},
   "outputs": [],
   "source": [
    "from fpdf import FPDF"
   ]
  },
  {
   "cell_type": "code",
   "execution_count": 29,
   "id": "6383b231",
   "metadata": {},
   "outputs": [
    {
     "name": "stdout",
     "output_type": "stream",
     "text": [
      "Orçamento gerado com sucesso!\n"
     ]
    }
   ],
   "source": [
    "pdf = FPDF()\n",
    "pdf.add_page()\n",
    "pdf.set_font(\"Arial\")\n",
    "\n",
    "pdf.image(\"template.png\", x=0,y=0)\n",
    "\n",
    "pdf.text(115,145, projeto)\n",
    "pdf.text(115,160, horas_previstas)\n",
    "pdf.text(115,175, valor_hora)\n",
    "pdf.text(115,190, prazo)\n",
    "pdf.text(115,205, str(valor_total))\n",
    "\n",
    "\n",
    "pdf.output(\"Orçamento.pdf\")\n",
    "print(\"Orçamento gerado com sucesso!\")"
   ]
  },
  {
   "cell_type": "code",
   "execution_count": null,
   "id": "96b7fa00",
   "metadata": {},
   "outputs": [],
   "source": []
  }
 ],
 "metadata": {
  "kernelspec": {
   "display_name": "Python 3 (ipykernel)",
   "language": "python",
   "name": "python3"
  },
  "language_info": {
   "codemirror_mode": {
    "name": "ipython",
    "version": 3
   },
   "file_extension": ".py",
   "mimetype": "text/x-python",
   "name": "python",
   "nbconvert_exporter": "python",
   "pygments_lexer": "ipython3",
   "version": "3.11.5"
  }
 },
 "nbformat": 4,
 "nbformat_minor": 5
}
